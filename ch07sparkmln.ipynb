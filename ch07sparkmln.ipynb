{
 "cells": [
  {
   "cell_type": "code",
   "execution_count": 6,
   "metadata": {},
   "outputs": [],
   "source": [
    "################chapter07_begins####################\n",
    "BUCKET='zeta-sol-254211bucket'\n",
    "os.environ['BUCKET'] = BUCKET"
   ]
  },
  {
   "cell_type": "code",
   "execution_count": 7,
   "metadata": {},
   "outputs": [],
   "source": [
    "from pyspark.mllib.classification import LogisticRegressionWithLBFGS\n",
    "from pyspark.mllib.regression import LabeledPoint"
   ]
  },
  {
   "cell_type": "code",
   "execution_count": 8,
   "metadata": {},
   "outputs": [],
   "source": [
    "traindays = spark.read \\\n",
    "    .option(\"header\", \"true\") \\\n",
    "    .csv('gs://{}/flights/trainday.csv'.format(BUCKET))"
   ]
  },
  {
   "cell_type": "code",
   "execution_count": 9,
   "metadata": {},
   "outputs": [],
   "source": [
    "traindays.createOrReplaceTempView('traindays')"
   ]
  },
  {
   "cell_type": "code",
   "execution_count": 10,
   "metadata": {},
   "outputs": [
    {
     "name": "stdout",
     "output_type": "stream",
     "text": [
      "+----------+------------+\n",
      "|   FL_DATE|is_train_day|\n",
      "+----------+------------+\n",
      "|2015-01-01|        True|\n",
      "|2015-01-02|       False|\n",
      "|2015-01-03|       False|\n",
      "|2015-01-04|        True|\n",
      "|2015-01-05|        True|\n",
      "+----------+------------+\n",
      "\n"
     ]
    }
   ],
   "source": [
    "spark.sql(\"SELECT * from traindays LIMIT 5\").show()"
   ]
  },
  {
   "cell_type": "code",
   "execution_count": 24,
   "metadata": {},
   "outputs": [],
   "source": [
    "from pyspark.sql.types import StringType, FloatType, StructType, StructField\n",
    "header ='FL_DATE,UNIQUE_CARRIER,AIRLINE_ID,CARRIER,FL_NUM,ORIGIN_AIRPORT_ID,ORIGIN_AIRPORT_SEQ_ID,ORIGIN_CITY_MARKET_ID,ORIGIN,DEST_AIRPORT_ID,DEST_AIRPORT_SEQ_ID,DEST_CITY_MARKET_ID,DEST,CRS_DEP_TIME,DEP_TIME,DEP_DELAY,TAXI_OUT,WHEELS_OFF,WHEELS_ON,TAXI_IN,CRS_ARR_TIME,ARR_TIME,ARR_DELAY,CANCELLED,CANCELLATION_CODE,DIVERTED,DISTANCE,DEP_AIRPORT_LAT,DEP_AIRPORT_LON,DEP_AIRPORT_TZOFFSET,ARR_AIRPORT_LAT,ARR_AIRPORT_LON,ARR_AIRPORT_TZOFFSET,EVENT,NOTIFY_TIME'\n",
    "def get_structfield(colname):\n",
    "   if colname in ['ARR_DELAY', 'DEP_DELAY', 'DISTANCE', 'TAXI_OUT']:\n",
    "      return StructField(colname, FloatType(), True)\n",
    "   else:\n",
    "      return StructField(colname, StringType(), True)\n",
    "\n",
    "schema = StructType([get_structfield(colname) for colname in header.split(',')])"
   ]
  },
  {
   "cell_type": "code",
   "execution_count": 25,
   "metadata": {},
   "outputs": [],
   "source": [
    "inputs = 'gs://{}/flights/tzcorr/all_flights-00000-*'.format(BUCKET)"
   ]
  },
  {
   "cell_type": "code",
   "execution_count": 26,
   "metadata": {},
   "outputs": [],
   "source": [
    "flights = spark.read\\\n",
    "            .schema(schema)\\\n",
    "            .csv(inputs)\n",
    "flights.createOrReplaceTempView('flights')"
   ]
  },
  {
   "cell_type": "code",
   "execution_count": 27,
   "metadata": {},
   "outputs": [],
   "source": [
    "trainquery = \"\"\"\n",
    "SELECT\n",
    "  f.*\n",
    "FROM flights f\n",
    "JOIN traindays t\n",
    "ON f.FL_DATE == t.FL_DATE\n",
    "WHERE\n",
    "  t.is_train_day == 'True'\n",
    "\"\"\""
   ]
  },
  {
   "cell_type": "code",
   "execution_count": 28,
   "metadata": {},
   "outputs": [],
   "source": [
    "traindata = spark.sql(trainquery)"
   ]
  },
  {
   "cell_type": "code",
   "execution_count": 29,
   "metadata": {},
   "outputs": [
    {
     "data": {
      "text/plain": [
       "[Row(FL_DATE=u'2015-03-01', UNIQUE_CARRIER=u'AA', AIRLINE_ID=u'19805', CARRIER=u'AA', FL_NUM=u'1', ORIGIN_AIRPORT_ID=u'12478', ORIGIN_AIRPORT_SEQ_ID=u'1247802', ORIGIN_CITY_MARKET_ID=u'31703', ORIGIN=u'JFK', DEST_AIRPORT_ID=u'12892', DEST_AIRPORT_SEQ_ID=u'1289203', DEST_CITY_MARKET_ID=u'32575', DEST=u'LAX', CRS_DEP_TIME=u'2015-03-01T14:00:00', DEP_TIME=u'2015-03-01T13:54:00', DEP_DELAY=-6.0, TAXI_OUT=22.0, WHEELS_OFF=u'2015-03-01T14:16:00', WHEELS_ON=u'2015-03-01T20:21:00', TAXI_IN=u'14.00', CRS_ARR_TIME=u'2015-03-01T20:35:00', ARR_TIME=u'2015-03-01T20:35:00', ARR_DELAY=0.0, CANCELLED=u'0.00', CANCELLATION_CODE=None, DIVERTED=u'0.00', DISTANCE=2475.0, DEP_AIRPORT_LAT=u'40.63972222', DEP_AIRPORT_LON=u'-73.77888889', DEP_AIRPORT_TZOFFSET=u'-18000.0', ARR_AIRPORT_LAT=u'33.94250000', ARR_AIRPORT_LON=u'-118.40805556', ARR_AIRPORT_TZOFFSET=u'-28800.0', EVENT=None, NOTIFY_TIME=None),\n",
       " Row(FL_DATE=u'2015-03-01', UNIQUE_CARRIER=u'AA', AIRLINE_ID=u'19805', CARRIER=u'AA', FL_NUM=u'2', ORIGIN_AIRPORT_ID=u'12892', ORIGIN_AIRPORT_SEQ_ID=u'1289203', ORIGIN_CITY_MARKET_ID=u'32575', ORIGIN=u'LAX', DEST_AIRPORT_ID=u'12478', DEST_AIRPORT_SEQ_ID=u'1247802', DEST_CITY_MARKET_ID=u'31703', DEST=u'JFK', CRS_DEP_TIME=u'2015-03-01T17:00:00', DEP_TIME=u'2015-03-01T16:57:00', DEP_DELAY=-3.0, TAXI_OUT=17.0, WHEELS_OFF=u'2015-03-01T17:14:00', WHEELS_ON=u'2015-03-01T21:43:00', TAXI_IN=u'11.00', CRS_ARR_TIME=u'2015-03-01T22:32:00', ARR_TIME=u'2015-03-01T21:54:00', ARR_DELAY=-38.0, CANCELLED=u'0.00', CANCELLATION_CODE=None, DIVERTED=u'0.00', DISTANCE=2475.0, DEP_AIRPORT_LAT=u'33.94250000', DEP_AIRPORT_LON=u'-118.40805556', DEP_AIRPORT_TZOFFSET=u'-28800.0', ARR_AIRPORT_LAT=u'40.63972222', ARR_AIRPORT_LON=u'-73.77888889', ARR_AIRPORT_TZOFFSET=u'-18000.0', EVENT=None, NOTIFY_TIME=None)]"
      ]
     },
     "execution_count": 29,
     "metadata": {},
     "output_type": "execute_result"
    }
   ],
   "source": [
    "traindata.head(2)"
   ]
  },
  {
   "cell_type": "code",
   "execution_count": 30,
   "metadata": {},
   "outputs": [
    {
     "name": "stdout",
     "output_type": "stream",
     "text": [
      "+-------+----------+--------------+------------------+-------+------------------+-----------------+---------------------+---------------------+------+------------------+-------------------+-------------------+------+-------------------+-------------------+------------------+------------------+-------------------+-------------------+-----------------+-------------------+-------------------+------------------+-------------------+-----------------+--------------------+-----------------+-----------------+------------------+--------------------+-----------------+------------------+--------------------+-----+-----------+\n",
      "|summary|   FL_DATE|UNIQUE_CARRIER|        AIRLINE_ID|CARRIER|            FL_NUM|ORIGIN_AIRPORT_ID|ORIGIN_AIRPORT_SEQ_ID|ORIGIN_CITY_MARKET_ID|ORIGIN|   DEST_AIRPORT_ID|DEST_AIRPORT_SEQ_ID|DEST_CITY_MARKET_ID|  DEST|       CRS_DEP_TIME|           DEP_TIME|         DEP_DELAY|          TAXI_OUT|         WHEELS_OFF|          WHEELS_ON|          TAXI_IN|       CRS_ARR_TIME|           ARR_TIME|         ARR_DELAY|          CANCELLED|CANCELLATION_CODE|            DIVERTED|         DISTANCE|  DEP_AIRPORT_LAT|   DEP_AIRPORT_LON|DEP_AIRPORT_TZOFFSET|  ARR_AIRPORT_LAT|   ARR_AIRPORT_LON|ARR_AIRPORT_TZOFFSET|EVENT|NOTIFY_TIME|\n",
      "+-------+----------+--------------+------------------+-------+------------------+-----------------+---------------------+---------------------+------+------------------+-------------------+-------------------+------+-------------------+-------------------+------------------+------------------+-------------------+-------------------+-----------------+-------------------+-------------------+------------------+-------------------+-----------------+--------------------+-----------------+-----------------+------------------+--------------------+-----------------+------------------+--------------------+-----+-----------+\n",
      "|  count|    465151|        465151|            465151| 465151|            465151|           465151|               465151|               465151|465151|            465151|             465151|             465151|465151|             465151|             454961|            454961|            454724|             454724|             454351|           454351|             465151|             454351|            453391|             465151|            10528|              465151|           465151|           465151|            465151|              465151|           465151|            465151|              465151|    0|          0|\n",
      "|   mean|      null|          null|19967.812669434228|   null|2185.2636993148462|12676.39612082958|   1267642.2965510124|   31707.886849646675|  null|12674.520727677678| 1267454.7572121741| 31706.685940694526|  null|               null|               null|10.617837572890863|16.005570411942188|               null|               null|7.338073427812418|               null|               null|6.1332007031458495|0.02263351040844801|             null|0.002648602281839661|820.3923844085039|36.47234170998487|-95.22751037034591|  -18958.77510743823|36.47185095178829|-95.22611281700756| -18943.133735066676| null|       null|\n",
      "| stddev|      null|          null|399.22424973036334|   null|1763.5913325879287|1524.193170534374|   152419.00748529533|   1282.3113744383647|  null| 1523.894526698061|  152389.1431932487| 1281.8938156471947|  null|               null|               null| 38.28224963897494| 9.212241569517062|               null|               null|5.513794454077777|               null|               null|40.599413916731116|0.14873224994010392|             null|0.051396428541222505|600.0456385430024|5.987627466917335|18.088624761630836|   5664.617261866316|5.987643674595966|18.086713004180275|   5688.987430167863| null|       null|\n",
      "|    min|2015-03-01|            AA|             19393|     AA|                 1|            10135|              1013503|                30070|   ABE|             10135|            1013503|              30070|   ABE|2015-02-28T21:15:00|2015-02-28T21:15:00|             -41.0|               1.0|2015-02-28T21:28:00|2015-03-01T06:28:00|             1.00|2015-03-01T05:05:00|2015-03-01T06:32:00|             -87.0|               0.00|                A|                0.00|             31.0|     -14.33000000|     -100.49638889|            -14400.0|     -14.33000000|     -100.49638889|            -14400.0| null|       null|\n",
      "|    max|2015-05-24|            WN|             21171|     WN|               999|            16218|              1621801|                35991|   YUM|             16218|            1621801|              35991|   YUM|2015-05-25T09:15:00|2015-05-25T09:09:00|            1589.0|             180.0|2015-05-25T09:23:00|2015-05-25T14:54:00|            99.00|2015-05-26T03:58:00|2015-05-25T14:58:00|            1576.0|               1.00|                D|                1.00|           4983.0|      71.28500000|      144.79722222|             36000.0|      71.28500000|      144.79722222|             36000.0| null|       null|\n",
      "+-------+----------+--------------+------------------+-------+------------------+-----------------+---------------------+---------------------+------+------------------+-------------------+-------------------+------+-------------------+-------------------+------------------+------------------+-------------------+-------------------+-----------------+-------------------+-------------------+------------------+-------------------+-----------------+--------------------+-----------------+-----------------+------------------+--------------------+-----------------+------------------+--------------------+-----+-----------+\n",
      "\n"
     ]
    }
   ],
   "source": [
    "traindata.describe().show()"
   ]
  },
  {
   "cell_type": "code",
   "execution_count": 31,
   "metadata": {},
   "outputs": [],
   "source": [
    "trainquery2 = \"\"\"\n",
    "SELECT\n",
    "  DEP_DELAY, TAXI_OUT, ARR_DELAY, DISTANCE\n",
    "FROM flights f\n",
    "JOIN traindays t\n",
    "ON f.FL_DATE == t.FL_DATE\n",
    "WHERE\n",
    "  t.is_train_day == 'True' AND\n",
    "  f.dep_delay IS NOT NULL AND \n",
    "  f.arr_delay IS NOT NULL\n",
    "\"\"\""
   ]
  },
  {
   "cell_type": "code",
   "execution_count": 34,
   "metadata": {},
   "outputs": [],
   "source": [
    "traindata = spark.sql(trainquery2)"
   ]
  },
  {
   "cell_type": "code",
   "execution_count": 35,
   "metadata": {},
   "outputs": [
    {
     "name": "stdout",
     "output_type": "stream",
     "text": [
      "+-------+------------------+------------------+------------------+-----------------+\n",
      "|summary|         DEP_DELAY|          TAXI_OUT|         ARR_DELAY|         DISTANCE|\n",
      "+-------+------------------+------------------+------------------+-----------------+\n",
      "|  count|            453391|            453391|            453391|           453391|\n",
      "|   mean|10.524110535939178|15.995617469248398|6.1332007031458495|822.8666493159326|\n",
      "| stddev|37.994050496122405| 9.192042072828558|40.599413916731116|601.1302202926496|\n",
      "|    min|             -41.0|               1.0|             -87.0|             31.0|\n",
      "|    max|            1589.0|             180.0|            1576.0|           4983.0|\n",
      "+-------+------------------+------------------+------------------+-----------------+\n",
      "\n"
     ]
    }
   ],
   "source": [
    "traindata.describe().show()"
   ]
  },
  {
   "cell_type": "code",
   "execution_count": 39,
   "metadata": {},
   "outputs": [],
   "source": [
    "trainquery3 = \"\"\"\n",
    "SELECT\n",
    "  DEP_DELAY, TAXI_OUT, ARR_DELAY, DISTANCE\n",
    "FROM flights f\n",
    "JOIN traindays t\n",
    "ON f.FL_DATE == t.FL_DATE\n",
    "WHERE\n",
    "  t.is_train_day == 'True' AND\n",
    "  f.CANCELLED == '0.00' AND \n",
    "  f.DIVERTED == '0.00'\n",
    "\"\"\""
   ]
  },
  {
   "cell_type": "code",
   "execution_count": 40,
   "metadata": {},
   "outputs": [],
   "source": [
    "traindata = spark.sql(trainquery3)"
   ]
  },
  {
   "cell_type": "code",
   "execution_count": 41,
   "metadata": {},
   "outputs": [
    {
     "name": "stdout",
     "output_type": "stream",
     "text": [
      "+-------+------------------+------------------+------------------+-----------------+\n",
      "|summary|         DEP_DELAY|          TAXI_OUT|         ARR_DELAY|         DISTANCE|\n",
      "+-------+------------------+------------------+------------------+-----------------+\n",
      "|  count|            453391|            453391|            453391|           453391|\n",
      "|   mean|10.524110535939178|15.995617469248398|6.1332007031458495|822.8666493159326|\n",
      "| stddev|37.994050496122405| 9.192042072828558|40.599413916731116|601.1302202926496|\n",
      "|    min|             -41.0|               1.0|             -87.0|             31.0|\n",
      "|    max|            1589.0|             180.0|            1576.0|           4983.0|\n",
      "+-------+------------------+------------------+------------------+-----------------+\n",
      "\n"
     ]
    }
   ],
   "source": [
    "traindata.describe().show()"
   ]
  },
  {
   "cell_type": "code",
   "execution_count": 42,
   "metadata": {},
   "outputs": [],
   "source": [
    "def to_example(raw_data_point):\n",
    "  return LabeledPoint(\\\n",
    "              float(raw_data_point['ARR_DELAY'] < 15), # on-time? \\\n",
    "              [ \\\n",
    "                  raw_data_point['DEP_DELAY'], \\\n",
    "                  raw_data_point['TAXI_OUT'], \\\n",
    "                  raw_data_point['DISTANCE'], \\\n",
    "              ])"
   ]
  },
  {
   "cell_type": "code",
   "execution_count": 43,
   "metadata": {},
   "outputs": [],
   "source": [
    "examples = traindata.rdd.map(to_example)"
   ]
  },
  {
   "cell_type": "code",
   "execution_count": 44,
   "metadata": {},
   "outputs": [],
   "source": [
    "lrmodel = LogisticRegressionWithLBFGS.train(examples, intercept=True)"
   ]
  },
  {
   "cell_type": "code",
   "execution_count": 45,
   "metadata": {},
   "outputs": [
    {
     "name": "stdout",
     "output_type": "stream",
     "text": [
      "[-0.16411921744187452,-0.13393724607433352,0.0002810494933260028] 5.25909681204\n"
     ]
    }
   ],
   "source": [
    "print lrmodel.weights,lrmodel.intercept"
   ]
  },
  {
   "cell_type": "code",
   "execution_count": 46,
   "metadata": {},
   "outputs": [
    {
     "data": {
      "text/plain": [
       "1"
      ]
     },
     "execution_count": 46,
     "metadata": {},
     "output_type": "execute_result"
    }
   ],
   "source": [
    "lrmodel.predict([6.0,12.0,594.0])"
   ]
  },
  {
   "cell_type": "code",
   "execution_count": 47,
   "metadata": {},
   "outputs": [
    {
     "data": {
      "text/plain": [
       "0"
      ]
     },
     "execution_count": 47,
     "metadata": {},
     "output_type": "execute_result"
    }
   ],
   "source": [
    "lrmodel.predict([36.0,12.0,594.0])"
   ]
  },
  {
   "cell_type": "code",
   "execution_count": 48,
   "metadata": {},
   "outputs": [],
   "source": [
    "lrmodel.clearThreshold()"
   ]
  },
  {
   "cell_type": "code",
   "execution_count": 50,
   "metadata": {},
   "outputs": [],
   "source": [
    "import matplotlib.pyplot as plt\n",
    "import seaborn as sns\n",
    "import pandas as pd\n",
    "import numpy as np\n",
    "sns.set_style(\"whitegrid\")"
   ]
  },
  {
   "cell_type": "code",
   "execution_count": 51,
   "metadata": {},
   "outputs": [
    {
     "data": {
      "text/plain": [
       "[<matplotlib.lines.Line2D at 0x7f5567fbfcd0>]"
      ]
     },
     "execution_count": 51,
     "metadata": {},
     "output_type": "execute_result"
    },
    {
     "name": "stderr",
     "output_type": "stream",
     "text": [
      "/usr/local/envs/py2env/lib/python2.7/site-packages/matplotlib/font_manager.py:1320: UserWarning: findfont: Font family [u'sans-serif'] not found. Falling back to DejaVu Sans\n",
      "  (prop.get_family(), self.defaultFamily[fontext]))\n"
     ]
    },
    {
     "data": {
      "image/png": "[encoded data removed]",
      "text/plain": [
       "<matplotlib.figure.Figure at 0x7f5569b9c310>"
      ]
     },
     "metadata": {},
     "output_type": "display_data"
    }
   ],
   "source": [
    "dist = np.arange(10, 2000, 10)\n",
    "prob = [lrmodel.predict([20, 10, d]) for d in dist]\n",
    "plt.plot(dist, prob)"
   ]
  },
  {
   "cell_type": "code",
   "execution_count": 52,
   "metadata": {},
   "outputs": [
    {
     "data": {
      "image/png": "[encoded data removed]",
      "text/plain": [
       "<matplotlib.figure.Figure at 0x7f5567fd1290>"
      ]
     },
     "metadata": {},
     "output_type": "display_data"
    }
   ],
   "source": [
    "delay = np.arange(-20, 60, 1)\n",
    "prob = [lrmodel.predict([d, 10, 500]) for d in delay]\n",
    "ax = plt.plot(delay, prob)"
   ]
  },
  {
   "cell_type": "code",
   "execution_count": 53,
   "metadata": {},
   "outputs": [],
   "source": [
    "lrmodel.setThreshold(0.7)"
   ]
  },
  {
   "cell_type": "code",
   "execution_count": 54,
   "metadata": {},
   "outputs": [],
   "source": [
    "MODEL_FILE='gs://' + BUCKET + '/flights/sparkmloutput/model'\n",
    "lrmodel.save(sc, MODEL_FILE)"
   ]
  },
  {
   "cell_type": "code",
   "execution_count": 55,
   "metadata": {},
   "outputs": [],
   "source": [
    "from pyspark.mllib.classification import LogisticRegressionModel\n",
    "lrmodel = LogisticRegressionModel.load(sc, MODEL_FILE)\n",
    "lrmodel.setThreshold(0.7)"
   ]
  },
  {
   "cell_type": "code",
   "execution_count": 56,
   "metadata": {},
   "outputs": [
    {
     "name": "stdout",
     "output_type": "stream",
     "text": [
      "0\n"
     ]
    }
   ],
   "source": [
    "print lrmodel.predict([36.0,12.0,594.0])"
   ]
  },
  {
   "cell_type": "code",
   "execution_count": 57,
   "metadata": {},
   "outputs": [
    {
     "name": "stdout",
     "output_type": "stream",
     "text": [
      "\n",
      "SELECT\n",
      "  f.*\n",
      "FROM flights f\n",
      "JOIN traindays t\n",
      "ON f.FL_DATE == t.FL_DATE\n",
      "WHERE\n",
      "  t.is_train_day == 'False'\n",
      "\n"
     ]
    }
   ],
   "source": [
    "testquery = trainquery.replace(\\\n",
    "         \"t.is_train_day == 'True'\",\"t.is_train_day == 'False'\")\n",
    "print testquery"
   ]
  },
  {
   "cell_type": "code",
   "execution_count": 60,
   "metadata": {},
   "outputs": [],
   "source": [
    "testdata = spark.sql(testquery)\n",
    "examples = testdata.rdd.map(to_example)"
   ]
  },
  {
   "cell_type": "code",
   "execution_count": 61,
   "metadata": {},
   "outputs": [],
   "source": [
    "labelpred = examples.map(lambda p: \\\n",
    "           (p.label, lrmodel.predict(p.features)))"
   ]
  },
  {
   "cell_type": "code",
   "execution_count": 63,
   "metadata": {},
   "outputs": [],
   "source": [
    "def eval(labelpred):\n",
    "    cancel = labelpred.filter(lambda (label, pred): pred == 1)\n",
    "    nocancel = labelpred.filter(lambda (label, pred): pred == 0)\n",
    "    corr_cancel = cancel.filter(lambda (label, pred): \\\n",
    "                                        label == pred).count()\n",
    "    corr_nocancel = nocancel.filter(lambda (label, pred): \\\n",
    "                                        label == pred).count()\n",
    "    return {'total_cancel': cancel.count(), \\\n",
    "            'correct_cancel': float(corr_cancel)/cancel.count(), \\\n",
    "            'total_noncancel': nocancel.count(), \\\n",
    "            'correct_noncancel': float(corr_nocancel)/nocancel.count()\\\n",
    "           }"
   ]
  },
  {
   "cell_type": "code",
   "execution_count": 65,
   "metadata": {},
   "outputs": [
    {
     "name": "stdout",
     "output_type": "stream",
     "text": [
      "{'correct_cancel': 0.9655800844081103, 'total_noncancel': 29965, 'correct_noncancel': 0.7423327215084266, 'total_cancel': 135532}\n"
     ]
    }
   ],
   "source": [
    "print eval(labelpred)"
   ]
  },
  {
   "cell_type": "code",
   "execution_count": 76,
   "metadata": {},
   "outputs": [],
   "source": [
    "#should be full dataset, it is actually one shard during development and decision threshold of 0.7\n",
    "lrmodel.clearThreshold() # so it returns probabilities\n",
    "labelpred = examples.map(lambda p: \\\n",
    "                         (p.label, lrmodel.predict(p.features)))"
   ]
  },
  {
   "cell_type": "code",
   "execution_count": 86,
   "metadata": {},
   "outputs": [],
   "source": [
    "def eval(labelpred):\n",
    "    cancel = labelpred.filter(lambda (label, pred): pred < 0.7)\n",
    "    nocancel = labelpred.filter(lambda (label, pred): pred >= 0.7)\n",
    "    corr_cancel = cancel.filter(lambda (label, pred): \\\n",
    "                             label == int(pred >= 0.7)).count()\n",
    "    corr_nocancel = nocancel.filter(lambda (label, pred): \\\n",
    "                             label == int(pred >= 0.7)).count()\n",
    "    cancel_denom = cancel.count()\n",
    "    nocancel_denom = nocancel.count()\n",
    "    if cancel_denom == 0:\n",
    "        cancel_denom = 1\n",
    "    if nocancel_denom == 0:\n",
    "        nocancel_denom = 1\n",
    "    return {'total_cancel': cancel.count(), \\\n",
    "            'correct_cancel': float(corr_cancel)/cancel_denom, \\\n",
    "            'total_noncancel': nocancel.count(), \\\n",
    "            'correct_noncancel': float(corr_nocancel)/nocancel_denom \\\n",
    "           }"
   ]
  },
  {
   "cell_type": "code",
   "execution_count": 87,
   "metadata": {},
   "outputs": [
    {
     "name": "stdout",
     "output_type": "stream",
     "text": [
      "{'correct_cancel': 0.3014749262536873, 'total_noncancel': 2045, 'correct_noncancel': 0.7471882640586797, 'total_cancel': 1695}\n"
     ]
    }
   ],
   "source": [
    "print eval(labelpred)"
   ]
  },
  {
   "cell_type": "code",
   "execution_count": 82,
   "metadata": {},
   "outputs": [],
   "source": [
    "#one shard of data and marginal(between 0.65 and 0.75) near decision threshold of 0.7\n",
    "labelpred = labelpred.filter(lambda (label, pred):\\\n",
    "                         pred > 0.65 and pred < 0.75)"
   ]
  },
  {
   "cell_type": "code",
   "execution_count": 83,
   "metadata": {},
   "outputs": [],
   "source": [
    "def eval(labelpred):\n",
    "  cancel = labelpred.filter(lambda (label, pred): pred < 0.7)\n",
    "  nocancel = labelpred.filter(lambda (label, pred): pred >= 0.7)\n",
    "  corr_cancel = cancel.filter(lambda (label, pred): \\\n",
    "                             label == int(pred >= 0.7)).count()\n",
    "  corr_nocancel = nocancel.filter(lambda (label, pred): \\\n",
    "                             label == int(pred >= 0.7)).count()\n",
    "  cancel_denom = cancel.count()\n",
    "  nocancel_denom = nocancel.count()\n",
    "  if cancel_denom == 0:\n",
    "        cancel_denom = 1\n",
    "  if nocancel_denom == 0:\n",
    "        nocancel_denom = 1\n",
    "  return {'total_cancel': cancel.count(), \\\n",
    "            'correct_cancel': float(corr_cancel)/cancel.count(), \\\n",
    "            'total_noncancel': nocancel.count(), \\\n",
    "            'correct_noncancel': float(corr_nocancel)/nocancel.count()\\\n",
    "           }"
   ]
  },
  {
   "cell_type": "code",
   "execution_count": 84,
   "metadata": {},
   "outputs": [
    {
     "name": "stdout",
     "output_type": "stream",
     "text": [
      "{'correct_cancel': 0.3014749262536873, 'total_noncancel': 2045, 'correct_noncancel': 0.7471882640586797, 'total_cancel': 1695}\n"
     ]
    }
   ],
   "source": [
    "# keep only those examples near the decision threshold\n",
    "print eval(labelpred)"
   ]
  },
  {
   "cell_type": "code",
   "execution_count": 92,
   "metadata": {},
   "outputs": [],
   "source": [
    "################feature_engineering#############\n",
    "cancel = labelpred.filter(lambda (label, pred): pred < 0.7)\n",
    "nocancel = labelpred.filter(lambda (label, pred): pred >= 0.7)\n",
    "totsqe = labelpred.map(lambda (label, pred): \\\n",
    "                       (label-pred)*(label-pred)).sum()\n",
    "rmse=np.sqrt(totsqe/float(cancel.count() + nocancel.count()))"
   ]
  },
  {
   "cell_type": "code",
   "execution_count": 93,
   "metadata": {},
   "outputs": [],
   "source": [
    "from pyspark.sql.functions import rand\n",
    "SEED = 13\n",
    "traindays = traindays.withColumn(\"holdout\", rand(SEED) > 0.8)  # 20%\n",
    "traindays.createOrReplaceTempView('traindays')"
   ]
  },
  {
   "cell_type": "code",
   "execution_count": 94,
   "metadata": {},
   "outputs": [
    {
     "data": {
      "text/plain": [
       "[Row(FL_DATE=u'2015-01-01', is_train_day=u'True', holdout=False),\n",
       " Row(FL_DATE=u'2015-01-02', is_train_day=u'False', holdout=True),\n",
       " Row(FL_DATE=u'2015-01-03', is_train_day=u'False', holdout=False),\n",
       " Row(FL_DATE=u'2015-01-04', is_train_day=u'True', holdout=False),\n",
       " Row(FL_DATE=u'2015-01-05', is_train_day=u'True', holdout=True)]"
      ]
     },
     "execution_count": 94,
     "metadata": {},
     "output_type": "execute_result"
    }
   ],
   "source": [
    "traindays.head(5)"
   ]
  },
  {
   "cell_type": "code",
   "execution_count": 106,
   "metadata": {},
   "outputs": [],
   "source": [
    "trainqueryn = \"\"\"\n",
    "SELECT \n",
    "  * \n",
    "  FROM flights f \n",
    "  JOIN traindays t \n",
    "  ON f.FL_DATE == t.FL_DATE\n",
    "WHERE\n",
    "  t.is_train_day == 'True' AND\n",
    "  t.holdout == False AND\n",
    "  f.CANCELLED == '0.00' AND\n",
    "  f.DIVERTED == '0.00'\n",
    "  \"\"\""
   ]
  },
  {
   "cell_type": "code",
   "execution_count": null,
   "metadata": {},
   "outputs": [],
   "source": [
    "traindata = spark.sql(trainqueryn)"
   ]
  },
  {
   "cell_type": "code",
   "execution_count": 112,
   "metadata": {},
   "outputs": [
    {
     "data": {
      "text/plain": [
       "Row(FL_DATE=u'2015-03-14', UNIQUE_CARRIER=u'EV', AIRLINE_ID=u'20366', CARRIER=u'EV', FL_NUM=u'4545', ORIGIN_AIRPORT_ID=u'12266', ORIGIN_AIRPORT_SEQ_ID=u'1226603', ORIGIN_CITY_MARKET_ID=u'31453', ORIGIN=u'IAH', DEST_AIRPORT_ID=u'12278', DEST_AIRPORT_SEQ_ID=u'1227802', DEST_CITY_MARKET_ID=u'30928', DEST=u'ICT', CRS_DEP_TIME=u'2015-03-15T00:05:00', DEP_TIME=u'2015-03-15T00:46:00', DEP_DELAY=41.0, TAXI_OUT=13.0, WHEELS_OFF=u'2015-03-15T00:59:00', WHEELS_ON=u'2015-03-15T02:13:00', TAXI_IN=u'8.00', CRS_ARR_TIME=u'2015-03-15T01:49:00', ARR_TIME=u'2015-03-15T02:21:00', ARR_DELAY=32.0, CANCELLED=u'0.00', CANCELLATION_CODE=None, DIVERTED=u'0.00', DISTANCE=542.0, DEP_AIRPORT_LAT=u'29.98444444', DEP_AIRPORT_LON=u'-95.34138889', DEP_AIRPORT_TZOFFSET=u'-18000.0', ARR_AIRPORT_LAT=u'37.65000000', ARR_AIRPORT_LON=u'-97.43305556', ARR_AIRPORT_TZOFFSET=u'-18000.0', EVENT=None, NOTIFY_TIME=None)"
      ]
     },
     "execution_count": 112,
     "metadata": {},
     "output_type": "execute_result"
    }
   ],
   "source": [
    "traindata.head()"
   ]
  },
  {
   "cell_type": "code",
   "execution_count": null,
   "metadata": {},
   "outputs": [],
   "source": [
    "def to_example(raw_data_point):\n",
    "  return LabeledPoint(\\\n",
    "              float(raw_data_point['ARR_DELAY'] < 15), #ontime \\\n",
    "              [ \\\n",
    "                  raw_data_point['DEP_DELAY'], # DEP_DELAY \\\n",
    "                  raw_data_point['DISTANCE'], # TAXI_OUT \\\n",
    "              ])"
   ]
  },
  {
   "cell_type": "code",
   "execution_count": 114,
   "metadata": {},
   "outputs": [],
   "source": [
    "examples = traindata.rdd.map(to_example)"
   ]
  },
  {
   "cell_type": "code",
   "execution_count": null,
   "metadata": {},
   "outputs": [],
   "source": [
    "lrmodel = LogisticRegressionWithLBFGS.train(examples, intercept=True)\n",
    "print lrmodel.weights,lrmodel.intercept"
   ]
  },
  {
   "cell_type": "code",
   "execution_count": null,
   "metadata": {},
   "outputs": [],
   "source": [
    "lrmodel.setThreshold(0.7) # cancel if prob-of-ontime < 0.7"
   ]
  },
  {
   "cell_type": "code",
   "execution_count": 110,
   "metadata": {},
   "outputs": [],
   "source": [
    "#traindata = spark.sql(trainqueryn).repartition(1000)"
   ]
  },
  {
   "cell_type": "code",
   "execution_count": null,
   "metadata": {},
   "outputs": [],
   "source": [
    "#evaldata = spark.sql(evalquery).repartition(1000)"
   ]
  },
  {
   "cell_type": "code",
   "execution_count": null,
   "metadata": {},
   "outputs": [],
   "source": [
    "#option1: scaling\n",
    "def to_example(raw_data_point):\n",
    "  return LabeledPoint(\\\n",
    "              float(raw_data_point['ARR_DELAY'] < 15), #ontime \\\n",
    "              [ \\\n",
    "                  raw_data_point['DEP_DELAY'] / 30, \\\n",
    "                  (raw_data_point['DISTANCE'] / 1000) - 1, \\\n",
    "                  (raw_data_point['TAXI_OUT'] / 10) - 1, \\\n",
    "              ])"
   ]
  },
  {
   "cell_type": "code",
   "execution_count": null,
   "metadata": {},
   "outputs": [],
   "source": [
    "#clipping\n",
    "def to_example(raw_data_point):\n",
    "  def clip(x):\n",
    "     if (x < -1):\n",
    "        return -1\n",
    "     if (x > 1):\n",
    "        return 1\n",
    "     return x\n",
    "  return LabeledPoint(\\\n",
    "              float(raw_data_point['ARR_DELAY'] < 15), #ontime \\\n",
    "              [ \\\n",
    "                  clip(raw_data_point['DEP_DELAY'] / 30), \\\n",
    "                  clip((raw_data_point['DISTANCE'] / 1000) - 1), \\\n",
    "                  clip((raw_data_point['TAXI_OUT'] / 10) - 1), \\\n",
    "              ])"
   ]
  },
  {
   "cell_type": "code",
   "execution_count": null,
   "metadata": {},
   "outputs": [],
   "source": [
    "#feature transform1: Given a departure timestamp and a time zone offset\n",
    "def to_example(raw_data_point):\n",
    "  def get_local_hour(timestamp, correction):\n",
    "      import datetime\n",
    "      TIME_FORMAT = '%Y-%m-%dT%H:%M:%S'\n",
    "      t = datetime.datetime.strptime(timestamp, TIME_FORMAT)\n",
    "      d = datetime.timedelta(seconds=correction)\n",
    "      t = t + d\n",
    "      return t.hour\n",
    "  return LabeledPoint(\\\n",
    "              float(raw_data_point['ARR_DELAY'] < 15), #ontime \\\n",
    "              [ \\\n",
    "                  raw_data_point['DEP_DELAY'], \\\n",
    "                  raw_data_point['TAXI_OUT'], \\\n",
    "                  get_local_hour(raw_data_point['DEP_TIME'], \\\n",
    "                           raw_data_point['DEP_AIRPORT_TZOFFSET'])\n",
    "              ])"
   ]
  },
  {
   "cell_type": "code",
   "execution_count": null,
   "metadata": {},
   "outputs": [],
   "source": [
    "#feature transform2:sin(theta) and cos(theta)\n",
    "def to_example(raw_data_point):\n",
    "  def get_local_hour(timestamp, correction):\n",
    "      import datetime\n",
    "      TIME_FORMAT = '%Y-%m-%dT%H:%M:%S'\n",
    "      t = datetime.datetime.strptime(timestamp, TIME_FORMAT)\n",
    "      d = datetime.timedelta(seconds=correction)\n",
    "      t = t + d\n",
    "      theta = np.radians(360 * t.hour / 24.0)\n",
    "      return [np.sin(theta), np.cos(theta)]\n",
    " \n",
    "  features = [ \\\n",
    "                  raw_data_point['DEP_DELAY'], \\\n",
    "                  raw_data_point['TAXI_OUT'], \\\n",
    "              ]\n",
    "  features.extend(get_local_hour(raw_data_point['DEP_TIME'],\n",
    "                                 raw_data_point['DEP_AIRPORT_TZOFFSET']))\n",
    "  return LabeledPoint(\\\n",
    "              float(raw_data_point['ARR_DELAY'] < 15), #ontime \\\n",
    "              features)"
   ]
  },
  {
   "cell_type": "code",
   "execution_count": null,
   "metadata": {},
   "outputs": [],
   "source": [
    "#feature transform3:bucketize\n",
    "def get_category(hour):\n",
    "  if hour < 6 or hour > 20:\n",
    "     return [1, 0, 0]  # night\n",
    "  if hour < 10:\n",
    "     return [0, 1, 0] # morning\n",
    "  if hour < 17:\n",
    "     return [0, 0, 1] # mid-day\n",
    "  else:\n",
    "     return [0, 0, 0] # evening\n",
    "\n",
    "def get_local_hour(timestamp, correction):\n",
    "  ...\n",
    "   return get_category(t.hour)"
   ]
  },
  {
   "cell_type": "code",
   "execution_count": null,
   "metadata": {},
   "outputs": [],
   "source": [
    "#Categorical Variables: One-hot encoding is available as a prebuilt feature transformation in Spark; \n",
    "#we can add a new column of vectors to the traindata data frame using this code:\n",
    "def add_categorical(df):\n",
    "   from pyspark.ml.feature import OneHotEncoder, StringIndexer\n",
    "   indexer = StringIndexer(inputCol='ORIGIN',\n",
    "                           outputCol='origin_index')\n",
    "   index_model = indexer.fit(df)  # Step 1\n",
    "   indexed = index_model.transform(df)  # Step 2\n",
    "   encoder = OneHotEncoder(inputCol='origin_index',\n",
    "                           outputCol='origin_onehot')\n",
    "   return encoder.transform(indexed) # Step 3\n",
    "traindata = add_categorical(traindata)\n",
    "\n",
    "#Here are the three steps:\n",
    "#1.Create an index from origin airport codes (e.g., DFW) to an origin index (e.g., 143).\n",
    "#2.Transform the dataset so that all flights with ORIGIN=DFW have origin_index=143.\n",
    "#3.One-hot encode the index into a binary vector that is used as input to training."
   ]
  },
  {
   "cell_type": "code",
   "execution_count": null,
   "metadata": {},
   "outputs": [],
   "source": [
    "#During evaluation, the same change needs to be made to the dataset, except that the index model will need to be \n",
    "#reused from training (so that DFW continues to map to 143). In other words, we need to save the index_model and carry out the \n",
    "#last three lines before prediction. So, we modify the add_categorical() method appropriately:23 experiment.py\n",
    "index_model = 0\n",
    "def add_categorical(df, train=False):\n",
    "   from pyspark.ml.feature import OneHotEncoder, StringIndexer\n",
    "   if train:\n",
    "       indexer = StringIndexer(inputCol='ORIGIN',\n",
    "                           outputCol='origin_index')\n",
    "       index_model = indexer.fit(df)\n",
    "   indexed = index_model.transform(df)\n",
    "   encoder = OneHotEncoder(inputCol='origin_index',\n",
    "                           outputCol='origin_onehot')\n",
    "   return encoder.transform(indexed)\n",
    "traindata = add_categorical(traindata, train=True)\n",
    "…\n",
    "evaldata = add_categorical(evaldata)\n",
    "\n",
    "#This is bookkeeping to which we need to pay careful attention because doing this sort of thing incorrectly will result\n",
    "#in training–serving skew. Spark provides a Pipeline mechanism to help you record which operations you carried out on \n",
    "#the dataset so that you can repeat them when evaluating, but it introduces yet another level of abstraction into an already \n",
    "#complex topic. During prediction, things become even more complicated. No longer is it simply a matter of calling lrmodel.predict(). \n",
    "#Instead, you will need to first construct a dataframe out of your raw input data, apply these transforms, and finally invoke the \n",
    "#actual model."
   ]
  },
  {
   "cell_type": "code",
   "execution_count": null,
   "metadata": {},
   "outputs": [],
   "source": [
    "#One way of reducing the explosion of input features caused by one-hot encoding is to carry out dimensionality reduction. \n",
    "#The idea is to pass in the one-hot encoded set and ask the machine learning algorithm itself to come up with weights to combine \n",
    "#these columns into, say, four features that are used downstream in the model. This is called creating an embedding."
   ]
  },
  {
   "cell_type": "code",
   "execution_count": 108,
   "metadata": {},
   "outputs": [],
   "source": [
    "#Evaluate model on the heldout data\n",
    "evalquery = trainqueryn.replace(\"t.holdout == False\", \\\n",
    "                               \"t.holdout == True\")"
   ]
  },
  {
   "cell_type": "code",
   "execution_count": null,
   "metadata": {},
   "outputs": [],
   "source": [
    "print evalquery"
   ]
  },
  {
   "cell_type": "code",
   "execution_count": null,
   "metadata": {},
   "outputs": [],
   "source": [
    "evaldata = spark.sql(evalquery)\n",
    "examples = evaldata.rdd.map(to_example)"
   ]
  },
  {
   "cell_type": "code",
   "execution_count": null,
   "metadata": {},
   "outputs": [],
   "source": [
    "def eval(labelpred):\n",
    "    cancel = labelpred.filter(lambda (label, pred): pred == 0)\n",
    "    nocancel = labelpred.filter(lambda (label, pred): pred == 1)\n",
    "    corr_cancel = cancel.filter(lambda (label, pred): label == pred).count()\n",
    "    corr_nocancel = nocancel.filter(lambda (label, pred): label == pred).count()\n",
    "    \n",
    "    cancel_denom = cancel.count()\n",
    "    nocancel_denom = nocancel.count()\n",
    "    if cancel_denom == 0:\n",
    "        cancel_denom = 1\n",
    "    if nocancel_denom == 0:\n",
    "        nocancel_denom = 1\n",
    "\n",
    "    return {'total_cancel': cancel.count(), \\\n",
    "            'correct_cancel': float(corr_cancel)/cancel_denom, \\\n",
    "            'total_noncancel': nocancel.count(), \\\n",
    "            'correct_noncancel': float(corr_nocancel)/nocancel_denom \\\n",
    "           }"
   ]
  },
  {
   "cell_type": "code",
   "execution_count": null,
   "metadata": {},
   "outputs": [],
   "source": [
    "labelpred = examples.map(lambda p: (p.label, lrmodel.predict(p.features)))\n",
    "print eval(labelpred)"
   ]
  }
 ],
 "metadata": {
  "kernelspec": {
   "display_name": "Python 2",
   "language": "python",
   "name": "python2"
  },
  "language_info": {
   "codemirror_mode": {
    "name": "ipython",
    "version": 2
   },
   "file_extension": ".py",
   "mimetype": "text/x-python",
   "name": "python",
   "nbconvert_exporter": "python",
   "pygments_lexer": "ipython2",
   "version": "2.7.15"
  }
 },
 "nbformat": 4,
 "nbformat_minor": 2
}
